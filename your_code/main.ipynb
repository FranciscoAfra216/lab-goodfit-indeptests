{
 "cells": [
  {
   "cell_type": "markdown",
   "metadata": {},
   "source": [
    "## Question 1\n",
    "The following table indicates the number of 6-point scores in an American rugby match in the 1979 season.\n",
    "\n",
    "![](table1.png)\n",
    "\n",
    "Based on these results, we create a Poisson distribution with the sample mean parameter  = 2.435. Is there any reason to believe that at a .05 level the number of scores is a Poisson variable?"
   ]
  },
  {
   "cell_type": "code",
   "execution_count": 21,
   "metadata": {},
   "outputs": [
    {
     "name": "stdout",
     "output_type": "stream",
     "text": [
      "Power_divergenceResult(statistic=5.526588649191275, pvalue=0.5959787428784399)\n"
     ]
    }
   ],
   "source": [
    "# your answer here\n",
    "import numpy as np\n",
    "import pandas as pd\n",
    "from scipy.stats import chisquare\n",
    "from scipy.stats import poisson\n",
    "import matplotlib.pyplot as plt\n",
    "\n",
    "mu = 2.435\n",
    "#HO : X ∼Poisson\n",
    "#H1 : X does not follow a Poisson distribution.\n",
    "\n",
    "frequency = np.array([35,99,104,110,62,25,10,3])\n",
    "n=sum(frequency)\n",
    "poisson_dist = poisson(mu)\n",
    "poisson_pmfs = np.array([poisson_dist.pmf(i)*n for i in [0,1,2,3,4,5,6,7]])\n",
    "poisson_pmfs\n",
    "\n",
    "print(chisquare(frequency, f_exp=poisson_pmfs))\n",
    "#We can not reject the null hypothesis\n",
    "#Therefore the 6 point score follows a poisson dist"
   ]
  },
  {
   "cell_type": "markdown",
   "metadata": {},
   "source": [
    "## BONUS/OPTIONAL - Question 2\n",
    "Let's analyze a discrete distribution. To analyze the number of defective items in a factory in the city of Medellín, we took a random sample of n = 60 articles and observed the number of defectives in the following table:\n",
    "\n",
    "![](table2.png)\n",
    "\n",
    "A poissón distribution was proposed since it is defined for x = 0,1,2,3, .... using the following model:\n",
    "\n",
    "![](image1.png)\n",
    "\n",
    "For some extra insights check the following link: https://online.stat.psu.edu/stat504/node/63/ \n",
    "\n",
    "Does the distribution of defective items follow this distribution?"
   ]
  },
  {
   "cell_type": "code",
   "execution_count": 22,
   "metadata": {},
   "outputs": [],
   "source": [
    "# your code here"
   ]
  },
  {
   "cell_type": "markdown",
   "metadata": {},
   "source": [
    "## Question 3\n",
    "A quality control engineer takes a sample of 10 tires that come out of an assembly line, and would like to verify on the basis of the data that follows, if the number of tires with defects observed over 200 days, if it is true that 5% of all tires have defects (that is, if the sample comes from a binomial population with n = 10 and p = 0.05). \n",
    "\n",
    "![](table3.png)\n"
   ]
  },
  {
   "cell_type": "code",
   "execution_count": 26,
   "metadata": {},
   "outputs": [
    {
     "name": "stdout",
     "output_type": "stream",
     "text": [
      "0.5\n",
      "0.475\n",
      "0.689202437604511\n",
      "[0 0 0 0 0 0 1 0 1 0 0 0 1 0 1]\n",
      "Power_divergenceResult(statistic=6.730152995610064, pvalue=0.034559372300758)\n"
     ]
    },
    {
     "data": {
      "image/png": "[encoded data removed]",
      "text/plain": [
       "<Figure size 432x288 with 1 Axes>"
      ]
     },
     "metadata": {
      "needs_background": "light"
     },
     "output_type": "display_data"
    }
   ],
   "source": [
    "# your answer here\n",
    "from scipy.stats import binom\n",
    "n=10\n",
    "p=0.05\n",
    "\n",
    "binomial_dist = binom(n,p)\n",
    "\n",
    "#print(binomial_dist.pmf(5))\n",
    "\n",
    "#print(binomial_dist.cdf(5))\n",
    "\n",
    "#attention to mean\n",
    "print(binomial_dist.mean())\n",
    "print(binomial_dist.var())\n",
    "print(binomial_dist.std())\n",
    "\n",
    "print(binomial_dist.rvs(15))\n",
    "\n",
    "x = np.arange(0,11)\n",
    "#plt.plot(x, binomial_dist.pmf(x),\"o\")\n",
    "plt.plot(x, binomial_dist.cdf(x),\"o\")\n",
    "\n",
    "#HO : X ∼Binomial\n",
    "#H1 : X does not follow a Binomial distribution.\n",
    "\n",
    "\n",
    "frequency1 = np.array([138,53,9])\n",
    "\n",
    "binomial_pmfs = np.array([binomial_dist.pmf(i)*200 for i in [0,1,2]])\n",
    "\n",
    "print(chisquare(frequency1, f_exp=binomial_pmfs))\n",
    "\n",
    "#We can reject the null hypothesis with a 95% confidence\n",
    "\n",
    "#It does not follow a binomial distribution"
   ]
  },
  {
   "cell_type": "markdown",
   "metadata": {},
   "source": [
    "## Question 4\n",
    "A researcher gathers information about the patterns of Physical Activity of children in the fifth grade of primary school of a public school. He defines three categories of physical activity (Low, Medium, High). He also inquires about the regular consumption of sugary drinks at school, and defines two categories (Yes = consumed, No = not consumed). We would like to evaluate if there is an association between patterns of physical activity and the consumption of sugary drinks for the children of this school, at a level of 5% significance. The results are in the following table: \n",
    "\n",
    "![](table4.png)"
   ]
  },
  {
   "cell_type": "code",
   "execution_count": 31,
   "metadata": {},
   "outputs": [
    {
     "data": {
      "text/plain": [
       "(10.712198008709638,\n",
       " 0.004719280137040844,\n",
       " 2,\n",
       " array([[24.08421053, 19.91578947],\n",
       "        [19.70526316, 16.29473684],\n",
       "        [ 8.21052632,  6.78947368]]))"
      ]
     },
     "execution_count": 31,
     "metadata": {},
     "output_type": "execute_result"
    }
   ],
   "source": [
    "#your answer here\n",
    "from scipy.stats import chi2_contingency\n",
    "\n",
    "# initialize list of lists \n",
    "data = [['low', 32, 12], ['medium', 14, 22], ['high', 6,9]] \n",
    "  \n",
    "# Create the pandas DataFrame \n",
    "df = pd.DataFrame(data, columns = ['Activity', 'Yes Sugar', 'No Sugar']) \n",
    "  \n",
    "# print dataframe. \n",
    "df=df.set_index('Activity')\n",
    "chi2_contingency(np.array(df))\n",
    "\n",
    "#p value of  0.004719 therefore \n",
    "#We would like to evaluate if there is an association between patterns of physical activity and the consumption \n",
    "#of sugary drinks for the children of this school, at a level of 5% significance\n",
    "\n",
    "#p value low it means variables are dependent from each other"
   ]
  },
  {
   "cell_type": "code",
   "execution_count": null,
   "metadata": {},
   "outputs": [],
   "source": []
  }
 ],
 "metadata": {
  "kernelspec": {
   "display_name": "Python 3",
   "language": "python",
   "name": "python3"
  },
  "language_info": {
   "codemirror_mode": {
    "name": "ipython",
    "version": 3
   },
   "file_extension": ".py",
   "mimetype": "text/x-python",
   "name": "python",
   "nbconvert_exporter": "python",
   "pygments_lexer": "ipython3",
   "version": "3.7.4"
  }
 },
 "nbformat": 4,
 "nbformat_minor": 2
}
